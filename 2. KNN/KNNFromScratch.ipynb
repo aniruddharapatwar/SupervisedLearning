{
 "cells": [
  {
   "cell_type": "markdown",
   "id": "7fcc4fce-b97c-429e-aa02-c699f303817e",
   "metadata": {},
   "source": [
    "### Step 1: Load the Iris Dataset"
   ]
  },
  {
   "cell_type": "code",
   "execution_count": 21,
   "id": "c0a14783-4cdf-4482-a13a-bdb29e807dd2",
   "metadata": {},
   "outputs": [
    {
     "name": "stdout",
     "output_type": "stream",
     "text": [
      "   sepal length (cm)  sepal width (cm)  petal length (cm)  petal width (cm)  \\\n",
      "0                5.1               3.5                1.4               0.2   \n",
      "1                4.9               3.0                1.4               0.2   \n",
      "2                4.7               3.2                1.3               0.2   \n",
      "3                4.6               3.1                1.5               0.2   \n",
      "4                5.0               3.6                1.4               0.2   \n",
      "\n",
      "   target  \n",
      "0       0  \n",
      "1       0  \n",
      "2       0  \n",
      "3       0  \n",
      "4       0  \n"
     ]
    }
   ],
   "source": [
    "import numpy as np\n",
    "import pandas as pd\n",
    "from sklearn import datasets\n",
    "from sklearn.model_selection import train_test_split\n",
    "import matplotlib.pyplot as plt\n",
    "from matplotlib.colors import ListedColormap\n",
    "\n",
    "iris = datasets.load_iris()\n",
    "X = iris.data\n",
    "y = iris.target\n",
    "feature_names = iris.feature_names\n",
    "target_names = iris.target_names\n",
    "\n",
    "df = pd.DataFrame(X, columns=feature_names)\n",
    "df['target'] = y\n",
    "print(df.head())"
   ]
  },
  {
   "cell_type": "code",
   "execution_count": 37,
   "id": "c1c4eb0f-9a79-4803-840a-f3f08e48e8d3",
   "metadata": {},
   "outputs": [],
   "source": [
    "from sklearn.model_selection import train_test_split\n",
    "X_train, X_test, y_train, y_test = train_test_split(X[:, :2], y, test_size=0.2, random_state=42)"
   ]
  },
  {
   "cell_type": "markdown",
   "id": "fc091a2c-a27f-4746-b59b-9961a95fd5f0",
   "metadata": {},
   "source": [
    "### Step 2: Calculate Euclidean Distance"
   ]
  },
  {
   "cell_type": "code",
   "execution_count": 25,
   "id": "a03e3f59-c7be-4276-a982-fa68f1782322",
   "metadata": {},
   "outputs": [],
   "source": [
    "def euclidean_distance(x1, x2):\n",
    "    return np.sqrt(np.sum((x1 - x2) ** 2))"
   ]
  },
  {
   "cell_type": "markdown",
   "id": "785dad7e-5959-429f-bb00-085540cfad67",
   "metadata": {},
   "source": [
    "### Step 3: KNN Algorithm"
   ]
  },
  {
   "cell_type": "code",
   "execution_count": 27,
   "id": "44761bc8-417f-4a1e-89d4-d47a625e73a8",
   "metadata": {},
   "outputs": [],
   "source": [
    "def knn(X_train, y_train, X_test, k):\n",
    "    predictions = []\n",
    "    for test_point in X_test:\n",
    "        distances = []\n",
    "        for i, train_point in enumerate(X_train):\n",
    "            dist = euclidean_distance(test_point, train_point)\n",
    "            distances.append((dist, y_train[i]))\n",
    "        \n",
    "        # Sort distances and select k nearest neighbors\n",
    "        distances = sorted(distances)[:k]\n",
    "        neighbors = [neighbor[1] for neighbor in distances]\n",
    "        \n",
    "        # Majority Voting\n",
    "        prediction = max(set(neighbors), key=neighbors.count)\n",
    "        predictions.append(prediction)\n",
    "        \n",
    "    return np.array(predictions)"
   ]
  },
  {
   "cell_type": "markdown",
   "id": "aaef10bf-6fa9-4859-b247-bed5a15459af",
   "metadata": {},
   "source": [
    "### Step 4: Run KNN with k=3"
   ]
  },
  {
   "cell_type": "code",
   "execution_count": 29,
   "id": "e6614bcd-9e36-4acc-8831-e5af93373ab2",
   "metadata": {},
   "outputs": [],
   "source": [
    "k = 3\n",
    "y_pred = knn(X_train, y_train, X_test, k)"
   ]
  },
  {
   "cell_type": "markdown",
   "id": "88f7be38-7c0b-400c-b444-49855a8f9045",
   "metadata": {},
   "source": [
    "### Step 5: Compare Actual vs Predicted"
   ]
  },
  {
   "cell_type": "code",
   "execution_count": 32,
   "id": "64d79fb0-3098-492b-87af-096b932948a5",
   "metadata": {},
   "outputs": [
    {
     "name": "stdout",
     "output_type": "stream",
     "text": [
      "Actual:    [1 0 2 1 1 0 1 2 1 1 2 0 0 0 0 1 2 1 1 2 0 2 0 2 2 2 2 2 0 0]\n",
      "Predicted: [1 0 2 1 1 0 1 2 1 1 2 0 0 0 0 1 2 1 1 2 0 2 0 2 2 2 2 2 0 0]\n"
     ]
    }
   ],
   "source": [
    "print(\"Actual:   \", y_test)\n",
    "print(\"Predicted:\", y_pred)"
   ]
  },
  {
   "cell_type": "markdown",
   "id": "2c159eff-d4ec-47d0-b72c-8944d44b9b78",
   "metadata": {},
   "source": [
    "### Step 6: Decision Boundary Plot"
   ]
  },
  {
   "cell_type": "code",
   "execution_count": 35,
   "id": "5dc743af-05ac-41db-94f2-5b4f306ce586",
   "metadata": {},
   "outputs": [
    {
     "ename": "ValueError",
     "evalue": "operands could not be broadcast together with shapes (2,) (4,) ",
     "output_type": "error",
     "traceback": [
      "\u001b[1;31m---------------------------------------------------------------------------\u001b[0m",
      "\u001b[1;31mValueError\u001b[0m                                Traceback (most recent call last)",
      "Cell \u001b[1;32mIn[35], line 22\u001b[0m\n\u001b[0;32m     19\u001b[0m     plt\u001b[38;5;241m.\u001b[39mylabel(\u001b[38;5;124m\"\u001b[39m\u001b[38;5;124mSepal Width\u001b[39m\u001b[38;5;124m\"\u001b[39m)\n\u001b[0;32m     20\u001b[0m     plt\u001b[38;5;241m.\u001b[39mshow()\n\u001b[1;32m---> 22\u001b[0m plot_decision_boundary(X, y, k)\n",
      "Cell \u001b[1;32mIn[35], line 11\u001b[0m, in \u001b[0;36mplot_decision_boundary\u001b[1;34m(X, y, k)\u001b[0m\n\u001b[0;32m      7\u001b[0m y_min, y_max \u001b[38;5;241m=\u001b[39m X[:, \u001b[38;5;241m1\u001b[39m]\u001b[38;5;241m.\u001b[39mmin() \u001b[38;5;241m-\u001b[39m \u001b[38;5;241m0.5\u001b[39m, X[:, \u001b[38;5;241m1\u001b[39m]\u001b[38;5;241m.\u001b[39mmax() \u001b[38;5;241m+\u001b[39m \u001b[38;5;241m0.5\u001b[39m\n\u001b[0;32m      8\u001b[0m xx, yy \u001b[38;5;241m=\u001b[39m np\u001b[38;5;241m.\u001b[39mmeshgrid(np\u001b[38;5;241m.\u001b[39marange(x_min, x_max, h),\n\u001b[0;32m      9\u001b[0m                      np\u001b[38;5;241m.\u001b[39marange(y_min, y_max, h))\n\u001b[1;32m---> 11\u001b[0m Z \u001b[38;5;241m=\u001b[39m knn(X_train, y_train, np\u001b[38;5;241m.\u001b[39mc_[xx\u001b[38;5;241m.\u001b[39mravel(), yy\u001b[38;5;241m.\u001b[39mravel()], k)\n\u001b[0;32m     12\u001b[0m Z \u001b[38;5;241m=\u001b[39m Z\u001b[38;5;241m.\u001b[39mreshape(xx\u001b[38;5;241m.\u001b[39mshape)\n\u001b[0;32m     14\u001b[0m plt\u001b[38;5;241m.\u001b[39mfigure(figsize\u001b[38;5;241m=\u001b[39m(\u001b[38;5;241m10\u001b[39m, \u001b[38;5;241m6\u001b[39m))\n",
      "Cell \u001b[1;32mIn[27], line 6\u001b[0m, in \u001b[0;36mknn\u001b[1;34m(X_train, y_train, X_test, k)\u001b[0m\n\u001b[0;32m      4\u001b[0m distances \u001b[38;5;241m=\u001b[39m []\n\u001b[0;32m      5\u001b[0m \u001b[38;5;28;01mfor\u001b[39;00m i, train_point \u001b[38;5;129;01min\u001b[39;00m \u001b[38;5;28menumerate\u001b[39m(X_train):\n\u001b[1;32m----> 6\u001b[0m     dist \u001b[38;5;241m=\u001b[39m euclidean_distance(test_point, train_point)\n\u001b[0;32m      7\u001b[0m     distances\u001b[38;5;241m.\u001b[39mappend((dist, y_train[i]))\n\u001b[0;32m      9\u001b[0m \u001b[38;5;66;03m# Sort distances and select k nearest neighbors\u001b[39;00m\n",
      "Cell \u001b[1;32mIn[25], line 2\u001b[0m, in \u001b[0;36meuclidean_distance\u001b[1;34m(x1, x2)\u001b[0m\n\u001b[0;32m      1\u001b[0m \u001b[38;5;28;01mdef\u001b[39;00m \u001b[38;5;21meuclidean_distance\u001b[39m(x1, x2):\n\u001b[1;32m----> 2\u001b[0m     \u001b[38;5;28;01mreturn\u001b[39;00m np\u001b[38;5;241m.\u001b[39msqrt(np\u001b[38;5;241m.\u001b[39msum((x1 \u001b[38;5;241m-\u001b[39m x2) \u001b[38;5;241m*\u001b[39m\u001b[38;5;241m*\u001b[39m \u001b[38;5;241m2\u001b[39m))\n",
      "\u001b[1;31mValueError\u001b[0m: operands could not be broadcast together with shapes (2,) (4,) "
     ]
    }
   ],
   "source": [
    "def plot_decision_boundary(X, y, k):\n",
    "    cmap_light = ListedColormap(['#FFAAAA', '#AAFFAA', '#AAAAFF'])\n",
    "    cmap_bold = ListedColormap(['#FF0000', '#00FF00', '#0000FF'])\n",
    "\n",
    "    h = 0.02  # step size in the mesh\n",
    "    x_min, x_max = X[:, 0].min() - 0.5, X[:, 0].max() + 0.5\n",
    "    y_min, y_max = X[:, 1].min() - 0.5, X[:, 1].max() + 0.5\n",
    "    xx, yy = np.meshgrid(np.arange(x_min, x_max, h),\n",
    "                         np.arange(y_min, y_max, h))\n",
    "\n",
    "    Z = knn(X_train, y_train, np.c_[xx.ravel(), yy.ravel()], k)\n",
    "    Z = Z.reshape(xx.shape)\n",
    "\n",
    "    plt.figure(figsize=(10, 6))\n",
    "    plt.contourf(xx, yy, Z, cmap=cmap_light)\n",
    "    plt.scatter(X[:, 0], X[:, 1], c=y, cmap=cmap_bold, edgecolors='k', s=60)\n",
    "    plt.title(f\"KNN Decision Boundary (k={k})\")\n",
    "    plt.xlabel(\"Sepal Length\")\n",
    "    plt.ylabel(\"Sepal Width\")\n",
    "    plt.show()\n",
    "\n",
    "plot_decision_boundary(X, y, k)"
   ]
  }
 ],
 "metadata": {
  "kernelspec": {
   "display_name": "Python 3 (ipykernel)",
   "language": "python",
   "name": "python3"
  },
  "language_info": {
   "codemirror_mode": {
    "name": "ipython",
    "version": 3
   },
   "file_extension": ".py",
   "mimetype": "text/x-python",
   "name": "python",
   "nbconvert_exporter": "python",
   "pygments_lexer": "ipython3",
   "version": "3.11.7"
  }
 },
 "nbformat": 4,
 "nbformat_minor": 5
}
